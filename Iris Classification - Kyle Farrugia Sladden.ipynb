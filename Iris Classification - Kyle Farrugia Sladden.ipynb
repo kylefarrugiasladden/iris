{
 "cells": [
  {
   "attachments": {},
   "cell_type": "markdown",
   "metadata": {},
   "source": [
    "# Classification solution - Iris dataset\n"
   ]
  },
  {
   "attachments": {},
   "cell_type": "markdown",
   "metadata": {},
   "source": [
    "## Loading of Data"
   ]
  },
  {
   "cell_type": "code",
   "execution_count": 1,
   "metadata": {},
   "outputs": [
    {
     "data": {
      "text/html": [
       "<div>\n",
       "<style scoped>\n",
       "    .dataframe tbody tr th:only-of-type {\n",
       "        vertical-align: middle;\n",
       "    }\n",
       "\n",
       "    .dataframe tbody tr th {\n",
       "        vertical-align: top;\n",
       "    }\n",
       "\n",
       "    .dataframe thead th {\n",
       "        text-align: right;\n",
       "    }\n",
       "</style>\n",
       "<table border=\"1\" class=\"dataframe\">\n",
       "  <thead>\n",
       "    <tr style=\"text-align: right;\">\n",
       "      <th></th>\n",
       "      <th>obs</th>\n",
       "      <th>area</th>\n",
       "      <th>perimeter</th>\n",
       "      <th>compactness</th>\n",
       "      <th>length</th>\n",
       "      <th>width</th>\n",
       "      <th>volume</th>\n",
       "      <th>location</th>\n",
       "      <th>asymmetry</th>\n",
       "      <th>grooveLength</th>\n",
       "      <th>variety</th>\n",
       "    </tr>\n",
       "  </thead>\n",
       "  <tbody>\n",
       "    <tr>\n",
       "      <th>0</th>\n",
       "      <td>1</td>\n",
       "      <td>15.26</td>\n",
       "      <td>14.84</td>\n",
       "      <td>0.8710</td>\n",
       "      <td>5.763</td>\n",
       "      <td>3.312</td>\n",
       "      <td>.</td>\n",
       "      <td>NaN</td>\n",
       "      <td>2.221</td>\n",
       "      <td>5.220</td>\n",
       "      <td>1.0</td>\n",
       "    </tr>\n",
       "    <tr>\n",
       "      <th>1</th>\n",
       "      <td>2</td>\n",
       "      <td>14.88</td>\n",
       "      <td>14.57</td>\n",
       "      <td>0.8811</td>\n",
       "      <td>5.554</td>\n",
       "      <td>3.333</td>\n",
       "      <td>NaN</td>\n",
       "      <td>NaN</td>\n",
       "      <td>1.018</td>\n",
       "      <td>4.956</td>\n",
       "      <td>1.0</td>\n",
       "    </tr>\n",
       "    <tr>\n",
       "      <th>2</th>\n",
       "      <td>3</td>\n",
       "      <td>14.29</td>\n",
       "      <td>14.09</td>\n",
       "      <td>0.9050</td>\n",
       "      <td>5.291</td>\n",
       "      <td>3.337</td>\n",
       "      <td>NaN</td>\n",
       "      <td>NaN</td>\n",
       "      <td>2.699</td>\n",
       "      <td>4.825</td>\n",
       "      <td>1.0</td>\n",
       "    </tr>\n",
       "    <tr>\n",
       "      <th>3</th>\n",
       "      <td>4</td>\n",
       "      <td>13.84</td>\n",
       "      <td>13.94</td>\n",
       "      <td>0.8955</td>\n",
       "      <td>5.324</td>\n",
       "      <td>3.379</td>\n",
       "      <td>;</td>\n",
       "      <td>NaN</td>\n",
       "      <td>2.259</td>\n",
       "      <td>4.805</td>\n",
       "      <td>1.0</td>\n",
       "    </tr>\n",
       "    <tr>\n",
       "      <th>4</th>\n",
       "      <td>5</td>\n",
       "      <td>16.14</td>\n",
       "      <td>14.99</td>\n",
       "      <td>0.9034</td>\n",
       "      <td>5.658</td>\n",
       "      <td>3.562</td>\n",
       "      <td>NaN</td>\n",
       "      <td>NaN</td>\n",
       "      <td>1.355</td>\n",
       "      <td>5.175</td>\n",
       "      <td>1.0</td>\n",
       "    </tr>\n",
       "  </tbody>\n",
       "</table>\n",
       "</div>"
      ],
      "text/plain": [
       "   obs   area  perimeter  compactness  length  width volume  location  \\\n",
       "0    1  15.26      14.84       0.8710   5.763  3.312      .       NaN   \n",
       "1    2  14.88      14.57       0.8811   5.554  3.333    NaN       NaN   \n",
       "2    3  14.29      14.09       0.9050   5.291  3.337    NaN       NaN   \n",
       "3    4  13.84      13.94       0.8955   5.324  3.379      ;       NaN   \n",
       "4    5  16.14      14.99       0.9034   5.658  3.562    NaN       NaN   \n",
       "\n",
       "   asymmetry  grooveLength  variety  \n",
       "0      2.221         5.220      1.0  \n",
       "1      1.018         4.956      1.0  \n",
       "2      2.699         4.825      1.0  \n",
       "3      2.259         4.805      1.0  \n",
       "4      1.355         5.175      1.0  "
      ]
     },
     "execution_count": 1,
     "metadata": {},
     "output_type": "execute_result"
    }
   ],
   "source": [
    "import pandas as pd\n",
    "\n",
    "seeds = pd.read_csv('seeds_dataset.csv')\n",
    "\n",
    "seeds.head()"
   ]
  },
  {
   "cell_type": "code",
   "execution_count": 2,
   "metadata": {},
   "outputs": [
    {
     "data": {
      "text/html": [
       "<div>\n",
       "<style scoped>\n",
       "    .dataframe tbody tr th:only-of-type {\n",
       "        vertical-align: middle;\n",
       "    }\n",
       "\n",
       "    .dataframe tbody tr th {\n",
       "        vertical-align: top;\n",
       "    }\n",
       "\n",
       "    .dataframe thead th {\n",
       "        text-align: right;\n",
       "    }\n",
       "</style>\n",
       "<table border=\"1\" class=\"dataframe\">\n",
       "  <thead>\n",
       "    <tr style=\"text-align: right;\">\n",
       "      <th></th>\n",
       "      <th>obs</th>\n",
       "      <th>area</th>\n",
       "      <th>perimeter</th>\n",
       "      <th>compactness</th>\n",
       "      <th>length</th>\n",
       "      <th>width</th>\n",
       "      <th>location</th>\n",
       "      <th>asymmetry</th>\n",
       "      <th>grooveLength</th>\n",
       "      <th>variety</th>\n",
       "    </tr>\n",
       "  </thead>\n",
       "  <tbody>\n",
       "    <tr>\n",
       "      <th>count</th>\n",
       "      <td>211.00000</td>\n",
       "      <td>210.000000</td>\n",
       "      <td>210.000000</td>\n",
       "      <td>210.000000</td>\n",
       "      <td>210.000000</td>\n",
       "      <td>210.000000</td>\n",
       "      <td>0.0</td>\n",
       "      <td>210.000000</td>\n",
       "      <td>210.000000</td>\n",
       "      <td>210.000000</td>\n",
       "    </tr>\n",
       "    <tr>\n",
       "      <th>mean</th>\n",
       "      <td>106.00000</td>\n",
       "      <td>14.847524</td>\n",
       "      <td>14.559286</td>\n",
       "      <td>0.870999</td>\n",
       "      <td>5.628533</td>\n",
       "      <td>3.258605</td>\n",
       "      <td>NaN</td>\n",
       "      <td>3.700201</td>\n",
       "      <td>5.408071</td>\n",
       "      <td>2.000000</td>\n",
       "    </tr>\n",
       "    <tr>\n",
       "      <th>std</th>\n",
       "      <td>61.05462</td>\n",
       "      <td>2.909699</td>\n",
       "      <td>1.305959</td>\n",
       "      <td>0.023629</td>\n",
       "      <td>0.443063</td>\n",
       "      <td>0.377714</td>\n",
       "      <td>NaN</td>\n",
       "      <td>1.503557</td>\n",
       "      <td>0.491480</td>\n",
       "      <td>0.818448</td>\n",
       "    </tr>\n",
       "    <tr>\n",
       "      <th>min</th>\n",
       "      <td>1.00000</td>\n",
       "      <td>10.590000</td>\n",
       "      <td>12.410000</td>\n",
       "      <td>0.808100</td>\n",
       "      <td>4.899000</td>\n",
       "      <td>2.630000</td>\n",
       "      <td>NaN</td>\n",
       "      <td>0.765100</td>\n",
       "      <td>4.519000</td>\n",
       "      <td>1.000000</td>\n",
       "    </tr>\n",
       "    <tr>\n",
       "      <th>25%</th>\n",
       "      <td>53.50000</td>\n",
       "      <td>12.270000</td>\n",
       "      <td>13.450000</td>\n",
       "      <td>0.856900</td>\n",
       "      <td>5.262250</td>\n",
       "      <td>2.944000</td>\n",
       "      <td>NaN</td>\n",
       "      <td>2.561500</td>\n",
       "      <td>5.045000</td>\n",
       "      <td>1.000000</td>\n",
       "    </tr>\n",
       "    <tr>\n",
       "      <th>50%</th>\n",
       "      <td>106.00000</td>\n",
       "      <td>14.355000</td>\n",
       "      <td>14.320000</td>\n",
       "      <td>0.873450</td>\n",
       "      <td>5.523500</td>\n",
       "      <td>3.237000</td>\n",
       "      <td>NaN</td>\n",
       "      <td>3.599000</td>\n",
       "      <td>5.223000</td>\n",
       "      <td>2.000000</td>\n",
       "    </tr>\n",
       "    <tr>\n",
       "      <th>75%</th>\n",
       "      <td>158.50000</td>\n",
       "      <td>17.305000</td>\n",
       "      <td>15.715000</td>\n",
       "      <td>0.887775</td>\n",
       "      <td>5.979750</td>\n",
       "      <td>3.561750</td>\n",
       "      <td>NaN</td>\n",
       "      <td>4.768750</td>\n",
       "      <td>5.877000</td>\n",
       "      <td>3.000000</td>\n",
       "    </tr>\n",
       "    <tr>\n",
       "      <th>max</th>\n",
       "      <td>211.00000</td>\n",
       "      <td>21.180000</td>\n",
       "      <td>17.250000</td>\n",
       "      <td>0.918300</td>\n",
       "      <td>6.675000</td>\n",
       "      <td>4.033000</td>\n",
       "      <td>NaN</td>\n",
       "      <td>8.456000</td>\n",
       "      <td>6.550000</td>\n",
       "      <td>3.000000</td>\n",
       "    </tr>\n",
       "  </tbody>\n",
       "</table>\n",
       "</div>"
      ],
      "text/plain": [
       "             obs        area   perimeter  compactness      length       width  \\\n",
       "count  211.00000  210.000000  210.000000   210.000000  210.000000  210.000000   \n",
       "mean   106.00000   14.847524   14.559286     0.870999    5.628533    3.258605   \n",
       "std     61.05462    2.909699    1.305959     0.023629    0.443063    0.377714   \n",
       "min      1.00000   10.590000   12.410000     0.808100    4.899000    2.630000   \n",
       "25%     53.50000   12.270000   13.450000     0.856900    5.262250    2.944000   \n",
       "50%    106.00000   14.355000   14.320000     0.873450    5.523500    3.237000   \n",
       "75%    158.50000   17.305000   15.715000     0.887775    5.979750    3.561750   \n",
       "max    211.00000   21.180000   17.250000     0.918300    6.675000    4.033000   \n",
       "\n",
       "       location   asymmetry  grooveLength     variety  \n",
       "count       0.0  210.000000    210.000000  210.000000  \n",
       "mean        NaN    3.700201      5.408071    2.000000  \n",
       "std         NaN    1.503557      0.491480    0.818448  \n",
       "min         NaN    0.765100      4.519000    1.000000  \n",
       "25%         NaN    2.561500      5.045000    1.000000  \n",
       "50%         NaN    3.599000      5.223000    2.000000  \n",
       "75%         NaN    4.768750      5.877000    3.000000  \n",
       "max         NaN    8.456000      6.550000    3.000000  "
      ]
     },
     "execution_count": 2,
     "metadata": {},
     "output_type": "execute_result"
    }
   ],
   "source": [
    "seeds.describe()"
   ]
  },
  {
   "cell_type": "code",
   "execution_count": 3,
   "metadata": {},
   "outputs": [
    {
     "data": {
      "text/plain": [
       "211"
      ]
     },
     "execution_count": 3,
     "metadata": {},
     "output_type": "execute_result"
    }
   ],
   "source": [
    "len(seeds)"
   ]
  },
  {
   "cell_type": "code",
   "execution_count": 4,
   "metadata": {},
   "outputs": [
    {
     "data": {
      "text/plain": [
       "obs               0\n",
       "area              1\n",
       "perimeter         1\n",
       "compactness       1\n",
       "length            1\n",
       "width             1\n",
       "volume          205\n",
       "location        211\n",
       "asymmetry         1\n",
       "grooveLength      1\n",
       "variety           1\n",
       "dtype: int64"
      ]
     },
     "execution_count": 4,
     "metadata": {},
     "output_type": "execute_result"
    }
   ],
   "source": [
    "seeds.isnull().sum()"
   ]
  },
  {
   "attachments": {},
   "cell_type": "markdown",
   "metadata": {},
   "source": [
    "From the above observations, the following is certain: 1 row contains null values, 'location' column is completely null (211/211), 'volume' column is predominantly null (205/211), 'obs' column is not a predictor variable and therefore redundant, 7 columns are predictor variables and 'variety' is the target variable with 3 classes, making it a multi-class classification."
   ]
  },
  {
   "attachments": {},
   "cell_type": "markdown",
   "metadata": {},
   "source": [
    "## Data Cleaning"
   ]
  },
  {
   "cell_type": "code",
   "execution_count": 5,
   "metadata": {},
   "outputs": [
    {
     "data": {
      "text/plain": [
       "area            0\n",
       "perimeter       0\n",
       "compactness     0\n",
       "length          0\n",
       "width           0\n",
       "asymmetry       0\n",
       "grooveLength    0\n",
       "variety         0\n",
       "dtype: int64"
      ]
     },
     "execution_count": 5,
     "metadata": {},
     "output_type": "execute_result"
    }
   ],
   "source": [
    "seeds.drop(['obs','volume', 'location'], axis=1, inplace=True)\n",
    "seeds.dropna(inplace=True)\n",
    "seeds.isnull().sum()"
   ]
  },
  {
   "attachments": {},
   "cell_type": "markdown",
   "metadata": {},
   "source": [
    "Seperating the features $x$ from the labels $y$"
   ]
  },
  {
   "cell_type": "code",
   "execution_count": 6,
   "metadata": {},
   "outputs": [],
   "source": [
    "features = seeds.columns[0:7]\n",
    "label = seeds.columns[7]\n",
    "\n",
    "X, y = seeds[features].values, seeds[label].values"
   ]
  },
  {
   "attachments": {},
   "cell_type": "markdown",
   "metadata": {},
   "source": [
    "## Plotting of Boxplots & Histograms for Data Visualisation & Exploration"
   ]
  },
  {
   "cell_type": "code",
   "execution_count": 7,
   "metadata": {},
   "outputs": [
    {
     "data": {
      "image/png": "[encoded data removed]",
      "text/plain": [
       "<Figure size 432x432 with 1 Axes>"
      ]
     },
     "metadata": {
      "needs_background": "light"
     },
     "output_type": "display_data"
    },
    {
     "data": {
      "image/png": "[encoded data removed]",
      "text/plain": [
       "<Figure size 432x432 with 1 Axes>"
      ]
     },
     "metadata": {
      "needs_background": "light"
     },
     "output_type": "display_data"
    },
    {
     "data": {
      "image/png": "[encoded data removed]",
      "text/plain": [
       "<Figure size 432x432 with 1 Axes>"
      ]
     },
     "metadata": {
      "needs_background": "light"
     },
     "output_type": "display_data"
    },
    {
     "data": {
      "image/png": "[encoded data removed]",
      "text/plain": [
       "<Figure size 432x432 with 1 Axes>"
      ]
     },
     "metadata": {
      "needs_background": "light"
     },
     "output_type": "display_data"
    },
    {
     "data": {
      "image/png": "[encoded data removed]",
      "text/plain": [
       "<Figure size 432x432 with 1 Axes>"
      ]
     },
     "metadata": {
      "needs_background": "light"
     },
     "output_type": "display_data"
    },
    {
     "data": {
      "image/png": "[encoded data removed]",
      "text/plain": [
       "<Figure size 432x432 with 1 Axes>"
      ]
     },
     "metadata": {
      "needs_background": "light"
     },
     "output_type": "display_data"
    },
    {
     "data": {
      "image/png": "[encoded data removed]",
      "text/plain": [
       "<Figure size 432x432 with 1 Axes>"
      ]
     },
     "metadata": {
      "needs_background": "light"
     },
     "output_type": "display_data"
    }
   ],
   "source": [
    "from matplotlib import pyplot as plt\n",
    "\n",
    "for col in features:\n",
    "    seeds.boxplot(column=col, by=label, figsize=(6,6))\n",
    "    plt.title(col)\n",
    "plt.show()"
   ]
  },
  {
   "cell_type": "code",
   "execution_count": 8,
   "metadata": {},
   "outputs": [
    {
     "data": {
      "image/png": "[encoded data removed]",
      "text/plain": [
       "<Figure size 1080x4608 with 7 Axes>"
      ]
     },
     "metadata": {
      "needs_background": "light"
     },
     "output_type": "display_data"
    }
   ],
   "source": [
    "fig, ax = plt.subplots(7, 1, figsize=(15, 8*8 ))\n",
    "\n",
    "i=0\n",
    "for col in features:\n",
    "    seeds_1 = seeds[seeds['variety']==1][col]\n",
    "    seeds_2 =  seeds[seeds['variety']==2][col]\n",
    "    seeds_3 =  seeds[seeds['variety']==3][col]\n",
    "    ax[i].hist([seeds_1, seeds_2, seeds_3], color=['red','blue','green'], label=['1','2','3'])\n",
    "    ax[i].legend(loc='best')\n",
    "    ax[i].set_title(col)\n",
    "    i += 1\n",
    "plt.show()"
   ]
  },
  {
   "attachments": {},
   "cell_type": "markdown",
   "metadata": {},
   "source": [
    "From the Boxplots and Histograms it can be observed that the distribution of all 3 classes of the target variable overlap eachother practically in all predictor variables, more so in some such as 'asymmetry' than in others."
   ]
  },
  {
   "attachments": {},
   "cell_type": "markdown",
   "metadata": {},
   "source": [
    "## PCA\n",
    "\n",
    "Identifying the ideal number of PCs based on the following 3 techniques:\n",
    "\n",
    "1. The Cattell-Scree test looks at the plotted eigenvalues.  This plot typically shows a sharp bend, or “elbow”.  PCs with eigenvalues above this sharp bend are kept.\n",
    "\n",
    "2. Second technique is to take the PCs with a cumulative variance higher than 70%.\n",
    "\n",
    "3. The Kaiser-Harris criterion recommends taking all PCs with an eigenvalue greater than 1.  PCs with an eigenvalue less than 1 explain less information than a single variable in the data."
   ]
  },
  {
   "cell_type": "code",
   "execution_count": 9,
   "metadata": {},
   "outputs": [
    {
     "data": {
      "text/plain": [
       "array([[ 1.42097769e-01,  2.15462437e-01,  6.06017918e-05, ...,\n",
       "         1.41701823e-01, -9.86151745e-01, -3.83577423e-01],\n",
       "       [ 1.11880257e-02,  8.22375713e-03,  4.28515270e-01, ...,\n",
       "         1.97432229e-01, -1.78816620e+00, -9.22013487e-01],\n",
       "       [-1.92066576e-01, -3.60200562e-01,  1.44238325e+00, ...,\n",
       "         2.08047544e-01, -6.67479334e-01, -1.18919199e+00],\n",
       "       ...,\n",
       "       [-5.67570840e-01, -6.90247348e-01,  7.33948301e-01, ...,\n",
       "        -7.06044846e-02,  3.07658816e+00, -7.18060432e-01],\n",
       "       [-1.03608992e+00, -1.03564515e+00, -8.01701104e-01, ...,\n",
       "        -1.12152071e+00, -6.81351965e-02, -7.42534799e-01],\n",
       "       [-8.77620233e-01, -9.35863561e-01, -1.10234659e-01, ...,\n",
       "        -7.55292327e-01,  1.29122264e+00, -7.03783718e-01]])"
      ]
     },
     "execution_count": 9,
     "metadata": {},
     "output_type": "execute_result"
    }
   ],
   "source": [
    "from sklearn.preprocessing import StandardScaler\n",
    "\n",
    "#Applying data standarization to get all features into the same scale\n",
    "standard_scaler = StandardScaler()\n",
    "#Computing mean & std dev to be used for scaling\n",
    "standard_scaler.fit(X)\n",
    "#Transforming the values\n",
    "X_scaled = standard_scaler.transform(X)\n",
    "X_scaled"
   ]
  },
  {
   "cell_type": "code",
   "execution_count": 10,
   "metadata": {},
   "outputs": [
    {
     "name": "stdout",
     "output_type": "stream",
     "text": [
      "[ 71.87  88.98  98.67  99.65  99.92 100.   100.01]\n"
     ]
    },
    {
     "data": {
      "text/plain": [
       "[<matplotlib.lines.Line2D at 0x293fed1af40>]"
      ]
     },
     "execution_count": 10,
     "metadata": {},
     "output_type": "execute_result"
    },
    {
     "data": {
      "image/png": "[encoded data removed]",
      "text/plain": [
       "<Figure size 432x288 with 1 Axes>"
      ]
     },
     "metadata": {
      "needs_background": "light"
     },
     "output_type": "display_data"
    }
   ],
   "source": [
    "#1 Cattell-Scree Test\n",
    "\n",
    "from sklearn.decomposition import PCA\n",
    "import numpy as np\n",
    "pca = PCA()\n",
    "pca.fit(X_scaled)\n",
    "\n",
    "cumvar = np.cumsum(np.round(pca.explained_variance_ratio_, decimals=4)*100)\n",
    "print(cumvar)\n",
    "plt.xlabel('Number of Components')\n",
    "plt.ylabel('Explained Cumulative Variance')\n",
    "plt.plot(cumvar)"
   ]
  },
  {
   "attachments": {},
   "cell_type": "markdown",
   "metadata": {},
   "source": [
    "As indicated from the sharp bend from the Scree Plot, the first 3 PCs (which explain 98.67% of the data) are to be used."
   ]
  },
  {
   "attachments": {},
   "cell_type": "markdown",
   "metadata": {},
   "source": [
    "Moreover, the first component alone explains 71.87% which satisfies the second technique whereby PCs with a cumulative variance greater than 70% are selected."
   ]
  },
  {
   "cell_type": "code",
   "execution_count": 11,
   "metadata": {},
   "outputs": [
    {
     "name": "stdout",
     "output_type": "stream",
     "text": [
      "\n",
      "Eigenvalues \n",
      "[5.05527392e+00 1.20330286e+00 6.81247474e-01 6.86915798e-02\n",
      " 1.88031478e-02 5.35755786e-03 8.16283865e-04]\n",
      "Eigenvectors \n",
      "[[ 0.44447352  0.44157147  0.27701737  0.42356333  0.43281866 -0.11869248\n",
      "   0.38716084]\n",
      " [-0.02656355 -0.08400282  0.52915125 -0.20597518  0.11668963 -0.71688203\n",
      "  -0.37719327]\n",
      " [ 0.02587094 -0.05983912  0.62969178 -0.21187966  0.21648338  0.67950584\n",
      "  -0.2138972 ]\n",
      " [ 0.19363997  0.29545659 -0.3328164   0.26340659  0.19963039  0.09246481\n",
      "  -0.80414995]\n",
      " [ 0.20441167  0.17427591 -0.33265481 -0.76609839  0.46536555 -0.03625822\n",
      "   0.11134657]\n",
      " [-0.42643686 -0.47623853 -0.14162884  0.27357647  0.70301171 -0.01964186\n",
      "   0.04282974]\n",
      " [ 0.73480569 -0.67075153 -0.0725527   0.04627605 -0.03928908 -0.00372346\n",
      "  -0.0344981 ]]\n"
     ]
    }
   ],
   "source": [
    "#3 Kaiser-Harris Citerion\n",
    "\n",
    "print('\\nEigenvalues \\n%s' %pca.explained_variance_)\n",
    "print('Eigenvectors \\n%s' %pca.components_)"
   ]
  },
  {
   "attachments": {},
   "cell_type": "markdown",
   "metadata": {},
   "source": [
    "Using the Kaiser-Harris Criterion, only the first 2 Eigenvalues are > 1 and therefore the only the first 2 PCs are considered as significant."
   ]
  },
  {
   "attachments": {},
   "cell_type": "markdown",
   "metadata": {},
   "source": [
    "Test results of the 3 different techniques are as follow:\n",
    "1. Cattell-Scree test = 3 PCs\n",
    "2. Cumulitave Variance > 70% = 1 PC\n",
    "3. Kaiser-Harris criterion = 2 PCs\n",
    "\n",
    "Therefore with a mean result of 2, the dataset is to be tranformed into 2 PCs."
   ]
  },
  {
   "cell_type": "code",
   "execution_count": 12,
   "metadata": {},
   "outputs": [],
   "source": [
    "#Transforming dataset to 2 components\n",
    "pca_2 = PCA(n_components=2)\n",
    "pca_2.fit(X_scaled)\n",
    "\n",
    "features_pca_2 = pca.fit_transform(X_scaled)"
   ]
  },
  {
   "attachments": {},
   "cell_type": "markdown",
   "metadata": {},
   "source": [
    "## Correlation Circle for the first 2 PCs"
   ]
  },
  {
   "cell_type": "code",
   "execution_count": 13,
   "metadata": {},
   "outputs": [
    {
     "data": {
      "image/png": "[encoded data removed]",
      "text/plain": [
       "<Figure size 576x576 with 1 Axes>"
      ]
     },
     "metadata": {
      "needs_background": "light"
     },
     "output_type": "display_data"
    }
   ],
   "source": [
    "(fig, ax) = plt.subplots(figsize=(8, 8))\n",
    "for i in range(0, pca_2.components_.shape[1]):\n",
    "    ax.arrow(0,\n",
    "             0,  # Start the arrow at the origin\n",
    "             pca_2.components_[0, i],  #0 for PC1\n",
    "             pca_2.components_[1, i],  #1 for PC2\n",
    "             head_width=0.1,\n",
    "             head_length=0.1)\n",
    "\n",
    "    plt.text(pca_2.components_[0, i] + 0.05,\n",
    "             pca_2.components_[1, i] + 0.05,\n",
    "             seeds.columns.values[i])\n",
    "\n",
    "\n",
    "an = np.linspace(0, 2 * np.pi, 100)\n",
    "plt.plot(np.cos(an), np.sin(an))  # Add a unit circle for scale\n",
    "plt.axis('equal')\n",
    "ax.set_title('Correlation Circle')\n",
    "plt.show()"
   ]
  },
  {
   "attachments": {},
   "cell_type": "markdown",
   "metadata": {},
   "source": [
    "# Random Forest Section\n",
    "\n",
    "## Data Splitting, Random Forest Training, Prediction, & Generation of Classification Report & Confusion Matrix"
   ]
  },
  {
   "cell_type": "code",
   "execution_count": 14,
   "metadata": {},
   "outputs": [
    {
     "name": "stdout",
     "output_type": "stream",
     "text": [
      "Iteration number:  1\n",
      "Training Set 126\n",
      "Test Set 84\n",
      "\n",
      "Number of Trees:  100\n",
      "Predicted labels:  [3. 2. 1. 2. 2. 1. 1. 2. 3. 3. 2. 1. 1. 3. 1. 2. 1. 3. 2. 3.]\n",
      "Actual labels:  [3. 2. 1. 2. 2. 1. 1. 2. 3. 3. 2. 1. 1. 3. 1. 2. 3. 3. 2. 3.]\n",
      "Accuracy :  0.9523809523809523\n",
      "{'1.0': {'precision': 0.9285714285714286, 'recall': 0.9285714285714286, 'f1-score': 0.9285714285714286, 'support': 28}, '2.0': {'precision': 0.9655172413793104, 'recall': 1.0, 'f1-score': 0.9824561403508771, 'support': 28}, '3.0': {'precision': 0.9629629629629629, 'recall': 0.9285714285714286, 'f1-score': 0.9454545454545454, 'support': 28}, 'accuracy': 0.9523809523809523, 'macro avg': {'precision': 0.9523505443045672, 'recall': 0.9523809523809524, 'f1-score': 0.9521607047922838, 'support': 84}, 'weighted avg': {'precision': 0.9523505443045673, 'recall': 0.9523809523809523, 'f1-score': 0.9521607047922837, 'support': 84}}\n",
      "[[26  1  1]\n",
      " [ 0 28  0]\n",
      " [ 2  0 26]]\n",
      "\n",
      "Iteration number:  2\n",
      "Training Set 126\n",
      "Test Set 84\n",
      "\n",
      "Number of Trees:  100\n",
      "Predicted labels:  [1. 1. 2. 2. 1. 3. 3. 3. 3. 3. 1. 2. 3. 2. 2. 3. 2. 1. 2. 2.]\n",
      "Actual labels:  [1. 1. 2. 2. 1. 3. 3. 3. 3. 3. 1. 2. 3. 2. 2. 3. 2. 1. 2. 2.]\n",
      "Accuracy :  0.9404761904761905\n",
      "{'1.0': {'precision': 0.896551724137931, 'recall': 0.9285714285714286, 'f1-score': 0.912280701754386, 'support': 28}, '2.0': {'precision': 0.9655172413793104, 'recall': 1.0, 'f1-score': 0.9824561403508771, 'support': 28}, '3.0': {'precision': 0.9615384615384616, 'recall': 0.8928571428571429, 'f1-score': 0.9259259259259259, 'support': 28}, 'accuracy': 0.9404761904761905, 'macro avg': {'precision': 0.9412024756852344, 'recall': 0.9404761904761906, 'f1-score': 0.9402209226770631, 'support': 84}, 'weighted avg': {'precision': 0.9412024756852343, 'recall': 0.9404761904761905, 'f1-score': 0.940220922677063, 'support': 84}}\n",
      "[[26  1  1]\n",
      " [ 0 28  0]\n",
      " [ 3  0 25]]\n",
      "\n",
      "Iteration number:  3\n",
      "Training Set 126\n",
      "Test Set 84\n",
      "\n",
      "Number of Trees:  100\n",
      "Predicted labels:  [2. 1. 1. 3. 3. 3. 3. 2. 2. 2. 2. 1. 2. 2. 2. 2. 2. 2. 1. 3.]\n",
      "Actual labels:  [2. 1. 1. 3. 3. 1. 3. 2. 2. 2. 2. 1. 2. 2. 2. 2. 2. 2. 1. 3.]\n",
      "Accuracy :  0.9285714285714286\n",
      "{'1.0': {'precision': 0.8928571428571429, 'recall': 0.8928571428571429, 'f1-score': 0.8928571428571429, 'support': 28}, '2.0': {'precision': 0.9629629629629629, 'recall': 0.9285714285714286, 'f1-score': 0.9454545454545454, 'support': 28}, '3.0': {'precision': 0.9310344827586207, 'recall': 0.9642857142857143, 'f1-score': 0.9473684210526316, 'support': 28}, 'accuracy': 0.9285714285714286, 'macro avg': {'precision': 0.9289515295262422, 'recall': 0.9285714285714287, 'f1-score': 0.9285600364547734, 'support': 84}, 'weighted avg': {'precision': 0.9289515295262422, 'recall': 0.9285714285714286, 'f1-score': 0.9285600364547733, 'support': 84}}\n",
      "[[25  1  2]\n",
      " [ 2 26  0]\n",
      " [ 1  0 27]]\n",
      "\n",
      "Iteration number:  4\n",
      "Training Set 126\n",
      "Test Set 84\n",
      "\n",
      "Number of Trees:  100\n",
      "Predicted labels:  [2. 3. 2. 3. 2. 1. 3. 3. 1. 1. 1. 3. 1. 3. 1. 3. 2. 2. 1. 1.]\n",
      "Actual labels:  [2. 3. 2. 3. 2. 1. 3. 3. 1. 1. 1. 3. 1. 3. 2. 3. 2. 2. 1. 1.]\n",
      "Accuracy :  0.9404761904761905\n",
      "{'1.0': {'precision': 0.896551724137931, 'recall': 0.9285714285714286, 'f1-score': 0.912280701754386, 'support': 28}, '2.0': {'precision': 1.0, 'recall': 0.9285714285714286, 'f1-score': 0.962962962962963, 'support': 28}, '3.0': {'precision': 0.9310344827586207, 'recall': 0.9642857142857143, 'f1-score': 0.9473684210526316, 'support': 28}, 'accuracy': 0.9404761904761905, 'macro avg': {'precision': 0.9425287356321839, 'recall': 0.9404761904761906, 'f1-score': 0.9408706952566602, 'support': 84}, 'weighted avg': {'precision': 0.9425287356321839, 'recall': 0.9404761904761905, 'f1-score': 0.9408706952566602, 'support': 84}}\n",
      "[[26  0  2]\n",
      " [ 2 26  0]\n",
      " [ 1  0 27]]\n",
      "\n",
      "Iteration number:  5\n",
      "Training Set 126\n",
      "Test Set 84\n",
      "\n",
      "Number of Trees:  100\n",
      "Predicted labels:  [3. 3. 2. 1. 2. 2. 1. 2. 1. 3. 3. 1. 3. 3. 3. 2. 2. 2. 2. 1.]\n",
      "Actual labels:  [3. 3. 2. 1. 2. 2. 1. 2. 1. 3. 3. 1. 3. 3. 3. 2. 2. 2. 2. 1.]\n",
      "Accuracy :  0.9523809523809523\n",
      "{'1.0': {'precision': 1.0, 'recall': 0.8571428571428571, 'f1-score': 0.923076923076923, 'support': 28}, '2.0': {'precision': 0.9333333333333333, 'recall': 1.0, 'f1-score': 0.9655172413793104, 'support': 28}, '3.0': {'precision': 0.9333333333333333, 'recall': 1.0, 'f1-score': 0.9655172413793104, 'support': 28}, 'accuracy': 0.9523809523809523, 'macro avg': {'precision': 0.9555555555555556, 'recall': 0.9523809523809524, 'f1-score': 0.9513704686118479, 'support': 84}, 'weighted avg': {'precision': 0.9555555555555555, 'recall': 0.9523809523809523, 'f1-score': 0.951370468611848, 'support': 84}}\n",
      "[[24  2  2]\n",
      " [ 0 28  0]\n",
      " [ 0  0 28]]\n",
      "\n",
      "Iteration number:  1\n",
      "Training Set 147\n",
      "Test Set 63\n",
      "\n",
      "Number of Trees:  550\n",
      "Predicted labels:  [3. 2. 2. 2. 2. 2. 1. 3. 3. 2. 1. 3. 2. 3. 1. 1. 3. 1. 3. 1.]\n",
      "Actual labels:  [3. 2. 2. 2. 2. 2. 1. 3. 3. 2. 1. 3. 2. 3. 1. 1. 3. 1. 3. 1.]\n",
      "Accuracy :  0.9682539682539683\n",
      "{'1.0': {'precision': 1.0, 'recall': 0.9047619047619048, 'f1-score': 0.9500000000000001, 'support': 21}, '2.0': {'precision': 0.9545454545454546, 'recall': 1.0, 'f1-score': 0.9767441860465117, 'support': 21}, '3.0': {'precision': 0.9545454545454546, 'recall': 1.0, 'f1-score': 0.9767441860465117, 'support': 21}, 'accuracy': 0.9682539682539683, 'macro avg': {'precision': 0.9696969696969697, 'recall': 0.9682539682539683, 'f1-score': 0.9678294573643411, 'support': 63}, 'weighted avg': {'precision': 0.9696969696969697, 'recall': 0.9682539682539683, 'f1-score': 0.967829457364341, 'support': 63}}\n",
      "[[19  1  1]\n",
      " [ 0 21  0]\n",
      " [ 0  0 21]]\n",
      "\n",
      "Iteration number:  2\n",
      "Training Set 147\n",
      "Test Set 63\n",
      "\n",
      "Number of Trees:  550\n",
      "Predicted labels:  [1. 2. 1. 2. 1. 1. 1. 2. 2. 3. 2. 2. 1. 3. 2. 2. 1. 2. 3. 2.]\n",
      "Actual labels:  [1. 2. 1. 2. 1. 1. 1. 2. 2. 3. 2. 2. 1. 3. 2. 2. 3. 2. 3. 2.]\n",
      "Accuracy :  0.9523809523809523\n",
      "{'1.0': {'precision': 0.9090909090909091, 'recall': 0.9523809523809523, 'f1-score': 0.9302325581395349, 'support': 21}, '2.0': {'precision': 0.9545454545454546, 'recall': 1.0, 'f1-score': 0.9767441860465117, 'support': 21}, '3.0': {'precision': 1.0, 'recall': 0.9047619047619048, 'f1-score': 0.9500000000000001, 'support': 21}, 'accuracy': 0.9523809523809523, 'macro avg': {'precision': 0.9545454545454546, 'recall': 0.9523809523809524, 'f1-score': 0.9523255813953488, 'support': 63}, 'weighted avg': {'precision': 0.9545454545454546, 'recall': 0.9523809523809523, 'f1-score': 0.952325581395349, 'support': 63}}\n",
      "[[20  1  0]\n",
      " [ 0 21  0]\n",
      " [ 2  0 19]]\n",
      "\n",
      "Iteration number:  3\n",
      "Training Set 147\n",
      "Test Set 63\n",
      "\n",
      "Number of Trees:  550\n",
      "Predicted labels:  [1. 2. 1. 2. 3. 3. 3. 3. 1. 2. 1. 3. 2. 2. 2. 2. 3. 2. 3. 3.]\n",
      "Actual labels:  [1. 2. 1. 2. 1. 3. 3. 3. 1. 2. 1. 3. 2. 2. 1. 2. 3. 2. 3. 3.]\n",
      "Accuracy :  0.9365079365079365\n",
      "{'1.0': {'precision': 0.9473684210526315, 'recall': 0.8571428571428571, 'f1-score': 0.9, 'support': 21}, '2.0': {'precision': 0.9545454545454546, 'recall': 1.0, 'f1-score': 0.9767441860465117, 'support': 21}, '3.0': {'precision': 0.9090909090909091, 'recall': 0.9523809523809523, 'f1-score': 0.9302325581395349, 'support': 21}, 'accuracy': 0.9365079365079365, 'macro avg': {'precision': 0.9370015948963317, 'recall': 0.9365079365079364, 'f1-score': 0.9356589147286822, 'support': 63}, 'weighted avg': {'precision': 0.9370015948963317, 'recall': 0.9365079365079365, 'f1-score': 0.9356589147286822, 'support': 63}}\n",
      "[[18  1  2]\n",
      " [ 0 21  0]\n",
      " [ 1  0 20]]\n",
      "\n",
      "Iteration number:  4\n",
      "Training Set 147\n",
      "Test Set 63\n",
      "\n",
      "Number of Trees:  550\n",
      "Predicted labels:  [3. 1. 1. 1. 3. 2. 3. 1. 2. 2. 1. 3. 1. 3. 3. 3. 1. 2. 2. 2.]\n",
      "Actual labels:  [1. 1. 1. 1. 3. 2. 3. 1. 2. 2. 1. 3. 2. 3. 3. 3. 2. 2. 2. 2.]\n",
      "Accuracy :  0.9365079365079365\n",
      "{'1.0': {'precision': 0.8695652173913043, 'recall': 0.9523809523809523, 'f1-score': 0.909090909090909, 'support': 21}, '2.0': {'precision': 1.0, 'recall': 0.9047619047619048, 'f1-score': 0.9500000000000001, 'support': 21}, '3.0': {'precision': 0.9523809523809523, 'recall': 0.9523809523809523, 'f1-score': 0.9523809523809523, 'support': 21}, 'accuracy': 0.9365079365079365, 'macro avg': {'precision': 0.9406487232574188, 'recall': 0.9365079365079364, 'f1-score': 0.937157287157287, 'support': 63}, 'weighted avg': {'precision': 0.9406487232574189, 'recall': 0.9365079365079365, 'f1-score': 0.9371572871572871, 'support': 63}}\n",
      "[[20  0  1]\n",
      " [ 2 19  0]\n",
      " [ 1  0 20]]\n",
      "\n",
      "Iteration number:  5\n",
      "Training Set 147\n",
      "Test Set 63\n",
      "\n",
      "Number of Trees:  550\n",
      "Predicted labels:  [1. 1. 3. 2. 3. 2. 1. 1. 1. 3. 3. 2. 3. 2. 1. 3. 1. 2. 2. 2.]\n",
      "Actual labels:  [1. 1. 3. 2. 3. 2. 1. 1. 1. 3. 3. 2. 3. 2. 1. 3. 1. 2. 2. 2.]\n",
      "Accuracy :  0.9682539682539683\n",
      "{'1.0': {'precision': 1.0, 'recall': 0.9047619047619048, 'f1-score': 0.9500000000000001, 'support': 21}, '2.0': {'precision': 0.9545454545454546, 'recall': 1.0, 'f1-score': 0.9767441860465117, 'support': 21}, '3.0': {'precision': 0.9545454545454546, 'recall': 1.0, 'f1-score': 0.9767441860465117, 'support': 21}, 'accuracy': 0.9682539682539683, 'macro avg': {'precision': 0.9696969696969697, 'recall': 0.9682539682539683, 'f1-score': 0.9678294573643411, 'support': 63}, 'weighted avg': {'precision': 0.9696969696969697, 'recall': 0.9682539682539683, 'f1-score': 0.967829457364341, 'support': 63}}\n",
      "[[19  1  1]\n",
      " [ 0 21  0]\n",
      " [ 0  0 21]]\n",
      "\n",
      "Iteration number:  1\n",
      "Training Set 168\n",
      "Test Set 42\n",
      "\n",
      "Number of Trees:  1000\n",
      "Predicted labels:  [2. 1. 2. 3. 1. 3. 2. 2. 1. 3. 3. 3. 1. 3. 2. 2. 2. 2. 2. 1.]\n",
      "Actual labels:  [2. 1. 2. 3. 1. 3. 2. 2. 3. 3. 3. 3. 1. 3. 2. 2. 2. 2. 2. 1.]\n",
      "Accuracy :  0.9523809523809523\n",
      "{'1.0': {'precision': 0.9285714285714286, 'recall': 0.9285714285714286, 'f1-score': 0.9285714285714286, 'support': 14}, '2.0': {'precision': 0.9333333333333333, 'recall': 1.0, 'f1-score': 0.9655172413793104, 'support': 14}, '3.0': {'precision': 1.0, 'recall': 0.9285714285714286, 'f1-score': 0.962962962962963, 'support': 14}, 'accuracy': 0.9523809523809523, 'macro avg': {'precision': 0.953968253968254, 'recall': 0.9523809523809524, 'f1-score': 0.9523505443045673, 'support': 42}, 'weighted avg': {'precision': 0.9539682539682539, 'recall': 0.9523809523809523, 'f1-score': 0.9523505443045673, 'support': 42}}\n",
      "[[13  1  0]\n",
      " [ 0 14  0]\n",
      " [ 1  0 13]]\n",
      "\n",
      "Iteration number:  2\n",
      "Training Set 168\n",
      "Test Set 42\n",
      "\n",
      "Number of Trees:  1000\n",
      "Predicted labels:  [1. 2. 3. 3. 1. 1. 3. 2. 2. 2. 2. 1. 3. 3. 3. 3. 3. 3. 3. 2.]\n",
      "Actual labels:  [1. 2. 3. 3. 1. 1. 3. 2. 2. 2. 2. 1. 3. 3. 3. 3. 3. 3. 3. 2.]\n",
      "Accuracy :  0.9761904761904762\n",
      "{'1.0': {'precision': 1.0, 'recall': 0.9285714285714286, 'f1-score': 0.962962962962963, 'support': 14}, '2.0': {'precision': 0.9333333333333333, 'recall': 1.0, 'f1-score': 0.9655172413793104, 'support': 14}, '3.0': {'precision': 1.0, 'recall': 1.0, 'f1-score': 1.0, 'support': 14}, 'accuracy': 0.9761904761904762, 'macro avg': {'precision': 0.9777777777777779, 'recall': 0.9761904761904763, 'f1-score': 0.9761600681140911, 'support': 42}, 'weighted avg': {'precision': 0.9777777777777776, 'recall': 0.9761904761904762, 'f1-score': 0.9761600681140912, 'support': 42}}\n",
      "[[13  1  0]\n",
      " [ 0 14  0]\n",
      " [ 0  0 14]]\n",
      "\n",
      "Iteration number:  3\n",
      "Training Set 168\n",
      "Test Set 42\n",
      "\n",
      "Number of Trees:  1000\n",
      "Predicted labels:  [2. 1. 3. 2. 1. 3. 2. 2. 1. 3. 1. 3. 3. 2. 3. 3. 2. 3. 1. 3.]\n",
      "Actual labels:  [2. 1. 3. 2. 1. 3. 2. 2. 1. 3. 1. 3. 1. 2. 3. 3. 2. 3. 1. 3.]\n",
      "Accuracy :  0.9523809523809523\n",
      "{'1.0': {'precision': 1.0, 'recall': 0.8571428571428571, 'f1-score': 0.923076923076923, 'support': 14}, '2.0': {'precision': 0.9333333333333333, 'recall': 1.0, 'f1-score': 0.9655172413793104, 'support': 14}, '3.0': {'precision': 0.9333333333333333, 'recall': 1.0, 'f1-score': 0.9655172413793104, 'support': 14}, 'accuracy': 0.9523809523809523, 'macro avg': {'precision': 0.9555555555555556, 'recall': 0.9523809523809524, 'f1-score': 0.9513704686118479, 'support': 42}, 'weighted avg': {'precision': 0.9555555555555555, 'recall': 0.9523809523809523, 'f1-score': 0.951370468611848, 'support': 42}}\n",
      "[[12  1  1]\n",
      " [ 0 14  0]\n",
      " [ 0  0 14]]\n",
      "\n",
      "Iteration number:  4\n",
      "Training Set 168\n",
      "Test Set 42\n",
      "\n",
      "Number of Trees:  1000\n",
      "Predicted labels:  [2. 3. 1. 3. 1. 3. 1. 2. 1. 3. 1. 2. 1. 1. 2. 3. 3. 1. 3. 2.]\n",
      "Actual labels:  [2. 3. 1. 3. 1. 3. 1. 2. 1. 3. 1. 2. 1. 1. 2. 3. 3. 3. 3. 2.]\n",
      "Accuracy :  0.9285714285714286\n",
      "{'1.0': {'precision': 0.8235294117647058, 'recall': 1.0, 'f1-score': 0.9032258064516129, 'support': 14}, '2.0': {'precision': 1.0, 'recall': 0.9285714285714286, 'f1-score': 0.962962962962963, 'support': 14}, '3.0': {'precision': 1.0, 'recall': 0.8571428571428571, 'f1-score': 0.923076923076923, 'support': 14}, 'accuracy': 0.9285714285714286, 'macro avg': {'precision': 0.9411764705882352, 'recall': 0.9285714285714285, 'f1-score': 0.9297552308304996, 'support': 42}, 'weighted avg': {'precision': 0.9411764705882353, 'recall': 0.9285714285714286, 'f1-score': 0.9297552308304996, 'support': 42}}\n",
      "[[14  0  0]\n",
      " [ 1 13  0]\n",
      " [ 2  0 12]]\n",
      "\n",
      "Iteration number:  5\n",
      "Training Set 168\n",
      "Test Set 42\n",
      "\n",
      "Number of Trees:  1000\n",
      "Predicted labels:  [2. 2. 2. 2. 2. 3. 1. 1. 1. 1. 3. 3. 3. 2. 2. 1. 1. 2. 2. 2.]\n",
      "Actual labels:  [2. 2. 2. 2. 2. 3. 1. 1. 1. 1. 3. 3. 3. 2. 1. 3. 1. 2. 2. 2.]\n",
      "Accuracy :  0.9285714285714286\n",
      "{'1.0': {'precision': 0.9230769230769231, 'recall': 0.8571428571428571, 'f1-score': 0.888888888888889, 'support': 14}, '2.0': {'precision': 0.9333333333333333, 'recall': 1.0, 'f1-score': 0.9655172413793104, 'support': 14}, '3.0': {'precision': 0.9285714285714286, 'recall': 0.9285714285714286, 'f1-score': 0.9285714285714286, 'support': 14}, 'accuracy': 0.9285714285714286, 'macro avg': {'precision': 0.9283272283272282, 'recall': 0.9285714285714285, 'f1-score': 0.9276591862798759, 'support': 42}, 'weighted avg': {'precision': 0.9283272283272284, 'recall': 0.9285714285714286, 'f1-score': 0.927659186279876, 'support': 42}}\n",
      "[[12  1  1]\n",
      " [ 0 14  0]\n",
      " [ 1  0 13]]\n",
      "\n"
     ]
    }
   ],
   "source": [
    "from sklearn.model_selection import train_test_split\n",
    "from sklearn.ensemble import RandomForestClassifier\n",
    "from sklearn.metrics import accuracy_score\n",
    "from sklearn.metrics import classification_report\n",
    "from sklearn.metrics import confusion_matrix\n",
    "\n",
    "rf_data_x, rf_data_y = features_pca_2, y\n",
    "df = pd.DataFrame()\n",
    "r = 0.4\n",
    "ratio = [0.4, 0.3, 0.2]\n",
    "n = 100\n",
    "trees = [100, 550, 1000]\n",
    "\n",
    "for r in ratio:\n",
    "    i=1\n",
    "    iteration = [1, 2, 3, 4, 5]\n",
    "    for i in iteration:\n",
    "        rf_x_train, rf_x_test, rf_y_train, rf_y_test = train_test_split(rf_data_x, rf_data_y, test_size=r, random_state=i, stratify=rf_data_y)\n",
    "        random_forest = RandomForestClassifier(n_estimators=n, bootstrap=False).fit(rf_x_train,rf_y_train)\n",
    "        rf_predictions = random_forest.predict(rf_x_test)\n",
    "        \n",
    "        print('Iteration number: ', i)\n",
    "        print('Training Set %d\\nTest Set %d\\n'%(rf_x_train.shape[0], rf_x_test.shape[0]))\n",
    "        print('Number of Trees: ', n)\n",
    "        print('Predicted labels: ', rf_predictions[:20])\n",
    "        print('Actual labels: ', rf_y_test[:20])        \n",
    "        rf_classification = classification_report(rf_y_test, rf_predictions, output_dict=True)\n",
    "        rf_cm = confusion_matrix(rf_y_test, rf_predictions)\n",
    "        print(rf_classification)\n",
    "        print(rf_cm)\n",
    "        print()\n",
    "        \n",
    "        ##CLASSIFICATION REPORT EXPORT - UNCOMMENT TO EXPORT TO EXCEL FILES\n",
    "        #report_df = pd.DataFrame(rf_classification).transpose()\n",
    "        #df = df.append(report_df)\n",
    "        #df.to_excel('seeds_results1.xlsx', sheet_name='RF_Raw')\n",
    "        \n",
    "        ##CONFUSION MATRIX EXPORT - UNCOMMENT TO EXPORT TO EXCEL FILES\n",
    "        #report_df = pd.DataFrame(rf_cm).transpose()\n",
    "        #df = df.append(report_df)\n",
    "        #df.to_excel('seeds_results2.xlsx', sheet_name='RF_CM_Raw')\n",
    "            \n",
    "        i += 1\n",
    "    r -= 0.1\n",
    "    n += 450"
   ]
  },
  {
   "attachments": {},
   "cell_type": "markdown",
   "metadata": {},
   "source": [
    "# ANN Section\n",
    "\n",
    "## Data Scaling\n",
    "\n",
    "Convert all values to the same range from 0 to 1."
   ]
  },
  {
   "cell_type": "code",
   "execution_count": 15,
   "metadata": {},
   "outputs": [
    {
     "name": "stdout",
     "output_type": "stream",
     "text": [
      "[[0.44098206 0.50206612 0.5707804  ... 0.48610121 0.18930164 0.34515017]\n",
      " [0.40509915 0.44628099 0.66243194 ... 0.50106914 0.03288302 0.21516494]\n",
      " [0.34938621 0.34710744 0.87931034 ... 0.50392017 0.25145302 0.1506647 ]\n",
      " ...\n",
      " [0.24645892 0.25826446 0.7277677  ... 0.42908054 0.98166664 0.26440177]\n",
      " [0.11803588 0.16528926 0.39927405 ... 0.14682823 0.36834441 0.25849335]\n",
      " [0.16147309 0.19214876 0.54718693 ... 0.24518888 0.63346292 0.26784835]]\n"
     ]
    }
   ],
   "source": [
    "from sklearn.preprocessing import MinMaxScaler\n",
    "\n",
    "min_max_scaler = MinMaxScaler()\n",
    "scaled = min_max_scaler.fit_transform(X_scaled)\n",
    "print(scaled)"
   ]
  },
  {
   "attachments": {},
   "cell_type": "markdown",
   "metadata": {},
   "source": [
    "## Data Splitting, Artificial Neural Networks Training, Prediction, & Generation of Classification Report & Confusion Matrix"
   ]
  },
  {
   "cell_type": "code",
   "execution_count": 16,
   "metadata": {},
   "outputs": [
    {
     "name": "stdout",
     "output_type": "stream",
     "text": [
      "Iteration number:  1\n",
      "Number of Neurons in the hidden layers:  100\n",
      "Training Set 126\n",
      "Test Set 84\n",
      "\n",
      "Predicted labels:  [3. 2. 1. 2. 2. 1. 1. 2. 3. 3. 2. 1. 1. 3. 1. 2. 3. 1. 2. 3.]\n",
      "Actual labels:  [3. 2. 1. 2. 2. 1. 1. 2. 3. 3. 2. 1. 1. 3. 1. 2. 3. 3. 2. 3.]\n",
      "Accuracy :  0.9285714285714286\n",
      "{'1.0': {'precision': 0.8235294117647058, 'recall': 1.0, 'f1-score': 0.9032258064516129, 'support': 28}, '2.0': {'precision': 1.0, 'recall': 0.8571428571428571, 'f1-score': 0.923076923076923, 'support': 28}, '3.0': {'precision': 1.0, 'recall': 0.9285714285714286, 'f1-score': 0.962962962962963, 'support': 28}, 'accuracy': 0.9285714285714286, 'macro avg': {'precision': 0.9411764705882352, 'recall': 0.9285714285714285, 'f1-score': 0.9297552308304997, 'support': 84}, 'weighted avg': {'precision': 0.9411764705882353, 'recall': 0.9285714285714286, 'f1-score': 0.9297552308304996, 'support': 84}}\n",
      "[[28  0  0]\n",
      " [ 4 24  0]\n",
      " [ 2  0 26]]\n",
      "\n",
      "Iteration number:  2\n",
      "Number of Neurons in the hidden layers:  100\n",
      "Training Set 126\n",
      "Test Set 84\n",
      "\n",
      "Predicted labels:  [1. 1. 2. 2. 1. 3. 3. 3. 3. 3. 1. 2. 3. 2. 2. 3. 2. 1. 2. 2.]\n",
      "Actual labels:  [1. 1. 2. 2. 1. 3. 3. 3. 3. 3. 1. 2. 3. 2. 2. 3. 2. 1. 2. 2.]\n",
      "Accuracy :  0.9285714285714286\n",
      "{'1.0': {'precision': 0.9230769230769231, 'recall': 0.8571428571428571, 'f1-score': 0.888888888888889, 'support': 28}, '2.0': {'precision': 0.875, 'recall': 1.0, 'f1-score': 0.9333333333333333, 'support': 28}, '3.0': {'precision': 1.0, 'recall': 0.9285714285714286, 'f1-score': 0.962962962962963, 'support': 28}, 'accuracy': 0.9285714285714286, 'macro avg': {'precision': 0.9326923076923078, 'recall': 0.9285714285714285, 'f1-score': 0.9283950617283953, 'support': 84}, 'weighted avg': {'precision': 0.9326923076923076, 'recall': 0.9285714285714286, 'f1-score': 0.9283950617283951, 'support': 84}}\n",
      "[[24  4  0]\n",
      " [ 0 28  0]\n",
      " [ 2  0 26]]\n",
      "\n",
      "Iteration number:  3\n",
      "Number of Neurons in the hidden layers:  100\n",
      "Training Set 126\n",
      "Test Set 84\n",
      "\n",
      "Predicted labels:  [2. 1. 1. 3. 3. 1. 3. 2. 2. 2. 2. 1. 2. 2. 2. 2. 2. 2. 1. 3.]\n",
      "Actual labels:  [2. 1. 1. 3. 3. 1. 3. 2. 2. 2. 2. 1. 2. 2. 2. 2. 2. 2. 1. 3.]\n",
      "Accuracy :  0.9285714285714286\n",
      "{'1.0': {'precision': 0.9032258064516129, 'recall': 1.0, 'f1-score': 0.9491525423728813, 'support': 28}, '2.0': {'precision': 1.0, 'recall': 0.9285714285714286, 'f1-score': 0.962962962962963, 'support': 28}, '3.0': {'precision': 1.0, 'recall': 0.9642857142857143, 'f1-score': 0.9818181818181818, 'support': 28}, 'accuracy': 0.9642857142857143, 'macro avg': {'precision': 0.967741935483871, 'recall': 0.9642857142857143, 'f1-score': 0.9646445623846754, 'support': 84}, 'weighted avg': {'precision': 0.9677419354838709, 'recall': 0.9642857142857143, 'f1-score': 0.9646445623846753, 'support': 84}}\n",
      "[[28  0  0]\n",
      " [ 2 26  0]\n",
      " [ 1  0 27]]\n",
      "\n",
      "Iteration number:  4\n",
      "Number of Neurons in the hidden layers:  100\n",
      "Training Set 126\n",
      "Test Set 84\n",
      "\n",
      "Predicted labels:  [2. 3. 2. 3. 2. 1. 3. 1. 1. 1. 1. 3. 1. 3. 1. 3. 2. 2. 1. 1.]\n",
      "Actual labels:  [2. 3. 2. 3. 2. 1. 3. 3. 1. 1. 1. 3. 1. 3. 2. 3. 2. 2. 1. 1.]\n",
      "Accuracy :  0.9285714285714286\n",
      "{'1.0': {'precision': 0.7714285714285715, 'recall': 0.9642857142857143, 'f1-score': 0.8571428571428572, 'support': 28}, '2.0': {'precision': 1.0, 'recall': 0.75, 'f1-score': 0.8571428571428571, 'support': 28}, '3.0': {'precision': 0.9642857142857143, 'recall': 0.9642857142857143, 'f1-score': 0.9642857142857143, 'support': 28}, 'accuracy': 0.8928571428571429, 'macro avg': {'precision': 0.9119047619047619, 'recall': 0.8928571428571429, 'f1-score': 0.8928571428571429, 'support': 84}, 'weighted avg': {'precision': 0.9119047619047619, 'recall': 0.8928571428571429, 'f1-score': 0.8928571428571429, 'support': 84}}\n",
      "[[27  0  1]\n",
      " [ 7 21  0]\n",
      " [ 1  0 27]]\n",
      "\n",
      "Iteration number:  5\n",
      "Number of Neurons in the hidden layers:  100\n",
      "Training Set 126\n",
      "Test Set 84\n",
      "\n",
      "Predicted labels:  [3. 3. 2. 1. 2. 2. 1. 2. 1. 3. 3. 1. 3. 3. 3. 2. 2. 2. 2. 1.]\n",
      "Actual labels:  [3. 3. 2. 1. 2. 2. 1. 2. 1. 3. 3. 1. 3. 3. 3. 2. 2. 2. 2. 1.]\n",
      "Accuracy :  0.9285714285714286\n",
      "{'1.0': {'precision': 1.0, 'recall': 0.9285714285714286, 'f1-score': 0.962962962962963, 'support': 28}, '2.0': {'precision': 0.9655172413793104, 'recall': 1.0, 'f1-score': 0.9824561403508771, 'support': 28}, '3.0': {'precision': 0.9655172413793104, 'recall': 1.0, 'f1-score': 0.9824561403508771, 'support': 28}, 'accuracy': 0.9761904761904762, 'macro avg': {'precision': 0.9770114942528737, 'recall': 0.9761904761904763, 'f1-score': 0.9759584145549057, 'support': 84}, 'weighted avg': {'precision': 0.9770114942528736, 'recall': 0.9761904761904762, 'f1-score': 0.9759584145549057, 'support': 84}}\n",
      "[[26  1  1]\n",
      " [ 0 28  0]\n",
      " [ 0  0 28]]\n",
      "\n",
      "Iteration number:  1\n",
      "Number of Neurons in the hidden layers:  200\n",
      "Training Set 147\n",
      "Test Set 63\n",
      "\n",
      "Predicted labels:  [3. 2. 2. 2. 2. 2. 1. 3. 3. 2. 1. 3. 2. 3. 1. 1. 3. 1. 3. 1.]\n",
      "Actual labels:  [3. 2. 2. 2. 2. 2. 1. 3. 3. 2. 1. 3. 2. 3. 1. 1. 3. 1. 3. 1.]\n",
      "Accuracy :  0.9285714285714286\n",
      "{'1.0': {'precision': 0.8333333333333334, 'recall': 0.9523809523809523, 'f1-score': 0.888888888888889, 'support': 21}, '2.0': {'precision': 0.9473684210526315, 'recall': 0.8571428571428571, 'f1-score': 0.9, 'support': 21}, '3.0': {'precision': 1.0, 'recall': 0.9523809523809523, 'f1-score': 0.975609756097561, 'support': 21}, 'accuracy': 0.9206349206349206, 'macro avg': {'precision': 0.9269005847953217, 'recall': 0.9206349206349206, 'f1-score': 0.9214995483288165, 'support': 63}, 'weighted avg': {'precision': 0.9269005847953216, 'recall': 0.9206349206349206, 'f1-score': 0.9214995483288168, 'support': 63}}\n",
      "[[20  1  0]\n",
      " [ 3 18  0]\n",
      " [ 1  0 20]]\n",
      "\n",
      "Iteration number:  2\n",
      "Number of Neurons in the hidden layers:  200\n",
      "Training Set 147\n",
      "Test Set 63\n",
      "\n",
      "Predicted labels:  [3. 2. 1. 2. 1. 1. 1. 2. 2. 3. 2. 2. 1. 3. 2. 2. 1. 2. 3. 2.]\n",
      "Actual labels:  [1. 2. 1. 2. 1. 1. 1. 2. 2. 3. 2. 2. 1. 3. 2. 2. 3. 2. 3. 2.]\n",
      "Accuracy :  0.9285714285714286\n",
      "{'1.0': {'precision': 0.9047619047619048, 'recall': 0.9047619047619048, 'f1-score': 0.9047619047619048, 'support': 21}, '2.0': {'precision': 0.9545454545454546, 'recall': 1.0, 'f1-score': 0.9767441860465117, 'support': 21}, '3.0': {'precision': 0.95, 'recall': 0.9047619047619048, 'f1-score': 0.9268292682926829, 'support': 21}, 'accuracy': 0.9365079365079365, 'macro avg': {'precision': 0.9364357864357865, 'recall': 0.9365079365079364, 'f1-score': 0.9361117863670332, 'support': 63}, 'weighted avg': {'precision': 0.9364357864357865, 'recall': 0.9365079365079365, 'f1-score': 0.9361117863670331, 'support': 63}}\n",
      "[[19  1  1]\n",
      " [ 0 21  0]\n",
      " [ 2  0 19]]\n",
      "\n",
      "Iteration number:  3\n",
      "Number of Neurons in the hidden layers:  200\n",
      "Training Set 147\n",
      "Test Set 63\n",
      "\n",
      "Predicted labels:  [2. 2. 1. 2. 3. 3. 3. 3. 1. 2. 1. 3. 2. 2. 2. 2. 3. 2. 3. 1.]\n",
      "Actual labels:  [1. 2. 1. 2. 1. 3. 3. 3. 1. 2. 1. 3. 2. 2. 1. 2. 3. 2. 3. 3.]\n",
      "Accuracy :  0.9285714285714286\n",
      "{'1.0': {'precision': 0.9473684210526315, 'recall': 0.8571428571428571, 'f1-score': 0.9, 'support': 21}, '2.0': {'precision': 0.9130434782608695, 'recall': 1.0, 'f1-score': 0.9545454545454545, 'support': 21}, '3.0': {'precision': 0.9523809523809523, 'recall': 0.9523809523809523, 'f1-score': 0.9523809523809523, 'support': 21}, 'accuracy': 0.9365079365079365, 'macro avg': {'precision': 0.9375976172314845, 'recall': 0.9365079365079364, 'f1-score': 0.9356421356421357, 'support': 63}, 'weighted avg': {'precision': 0.9375976172314845, 'recall': 0.9365079365079365, 'f1-score': 0.9356421356421356, 'support': 63}}\n",
      "[[18  2  1]\n",
      " [ 0 21  0]\n",
      " [ 1  0 20]]\n",
      "\n",
      "Iteration number:  4\n",
      "Number of Neurons in the hidden layers:  200\n",
      "Training Set 147\n",
      "Test Set 63\n",
      "\n",
      "Predicted labels:  [1. 1. 3. 1. 3. 2. 3. 1. 2. 2. 1. 3. 1. 3. 3. 3. 1. 2. 2. 1.]\n",
      "Actual labels:  [1. 1. 1. 1. 3. 2. 3. 1. 2. 2. 1. 3. 2. 3. 3. 3. 2. 2. 2. 2.]\n",
      "Accuracy :  0.9285714285714286\n",
      "{'1.0': {'precision': 0.7692307692307693, 'recall': 0.9523809523809523, 'f1-score': 0.8510638297872339, 'support': 21}, '2.0': {'precision': 1.0, 'recall': 0.7619047619047619, 'f1-score': 0.8648648648648648, 'support': 21}, '3.0': {'precision': 0.9523809523809523, 'recall': 0.9523809523809523, 'f1-score': 0.9523809523809523, 'support': 21}, 'accuracy': 0.8888888888888888, 'macro avg': {'precision': 0.9072039072039072, 'recall': 0.8888888888888888, 'f1-score': 0.889436549011017, 'support': 63}, 'weighted avg': {'precision': 0.9072039072039072, 'recall': 0.8888888888888888, 'f1-score': 0.8894365490110171, 'support': 63}}\n",
      "[[20  0  1]\n",
      " [ 5 16  0]\n",
      " [ 1  0 20]]\n",
      "\n",
      "Iteration number:  5\n",
      "Number of Neurons in the hidden layers:  200\n",
      "Training Set 147\n",
      "Test Set 63\n",
      "\n",
      "Predicted labels:  [1. 3. 3. 2. 3. 2. 1. 1. 1. 3. 3. 2. 3. 2. 1. 3. 1. 2. 2. 2.]\n",
      "Actual labels:  [1. 1. 3. 2. 3. 2. 1. 1. 1. 3. 3. 2. 3. 2. 1. 3. 1. 2. 2. 2.]\n",
      "Accuracy :  0.9285714285714286\n",
      "{'1.0': {'precision': 1.0, 'recall': 0.9523809523809523, 'f1-score': 0.975609756097561, 'support': 21}, '2.0': {'precision': 1.0, 'recall': 1.0, 'f1-score': 1.0, 'support': 21}, '3.0': {'precision': 0.9545454545454546, 'recall': 1.0, 'f1-score': 0.9767441860465117, 'support': 21}, 'accuracy': 0.9841269841269841, 'macro avg': {'precision': 0.9848484848484849, 'recall': 0.9841269841269842, 'f1-score': 0.9841179807146908, 'support': 63}, 'weighted avg': {'precision': 0.9848484848484849, 'recall': 0.9841269841269841, 'f1-score': 0.9841179807146908, 'support': 63}}\n",
      "[[20  0  1]\n",
      " [ 0 21  0]\n",
      " [ 0  0 21]]\n",
      "\n",
      "Iteration number:  1\n",
      "Number of Neurons in the hidden layers:  300\n",
      "Training Set 168\n",
      "Test Set 42\n",
      "\n",
      "Predicted labels:  [1. 1. 2. 3. 1. 1. 2. 2. 3. 3. 3. 3. 1. 3. 2. 1. 2. 2. 2. 1.]\n",
      "Actual labels:  [2. 1. 2. 3. 1. 3. 2. 2. 3. 3. 3. 3. 1. 3. 2. 2. 2. 2. 2. 1.]\n",
      "Accuracy :  0.9285714285714286\n",
      "{'1.0': {'precision': 0.8125, 'recall': 0.9285714285714286, 'f1-score': 0.8666666666666666, 'support': 14}, '2.0': {'precision': 0.9230769230769231, 'recall': 0.8571428571428571, 'f1-score': 0.888888888888889, 'support': 14}, '3.0': {'precision': 1.0, 'recall': 0.9285714285714286, 'f1-score': 0.962962962962963, 'support': 14}, 'accuracy': 0.9047619047619048, 'macro avg': {'precision': 0.9118589743589745, 'recall': 0.9047619047619048, 'f1-score': 0.9061728395061728, 'support': 42}, 'weighted avg': {'precision': 0.9118589743589742, 'recall': 0.9047619047619048, 'f1-score': 0.9061728395061728, 'support': 42}}\n",
      "[[13  1  0]\n",
      " [ 2 12  0]\n",
      " [ 1  0 13]]\n",
      "\n",
      "Iteration number:  2\n",
      "Number of Neurons in the hidden layers:  300\n",
      "Training Set 168\n",
      "Test Set 42\n",
      "\n",
      "Predicted labels:  [1. 2. 3. 3. 1. 3. 3. 2. 2. 2. 2. 1. 3. 3. 3. 3. 3. 3. 3. 2.]\n",
      "Actual labels:  [1. 2. 3. 3. 1. 1. 3. 2. 2. 2. 2. 1. 3. 3. 3. 3. 3. 3. 3. 2.]\n",
      "Accuracy :  0.9285714285714286\n",
      "{'1.0': {'precision': 1.0, 'recall': 0.9285714285714286, 'f1-score': 0.962962962962963, 'support': 14}, '2.0': {'precision': 1.0, 'recall': 1.0, 'f1-score': 1.0, 'support': 14}, '3.0': {'precision': 0.9333333333333333, 'recall': 1.0, 'f1-score': 0.9655172413793104, 'support': 14}, 'accuracy': 0.9761904761904762, 'macro avg': {'precision': 0.9777777777777779, 'recall': 0.9761904761904763, 'f1-score': 0.9761600681140911, 'support': 42}, 'weighted avg': {'precision': 0.9777777777777776, 'recall': 0.9761904761904762, 'f1-score': 0.9761600681140912, 'support': 42}}\n",
      "[[13  0  1]\n",
      " [ 0 14  0]\n",
      " [ 0  0 14]]\n",
      "\n",
      "Iteration number:  3\n",
      "Number of Neurons in the hidden layers:  300\n",
      "Training Set 168\n",
      "Test Set 42\n",
      "\n",
      "Predicted labels:  [2. 1. 3. 2. 1. 3. 2. 2. 1. 3. 1. 3. 3. 2. 3. 3. 2. 3. 1. 3.]\n",
      "Actual labels:  [2. 1. 3. 2. 1. 3. 2. 2. 1. 3. 1. 3. 1. 2. 3. 3. 2. 3. 1. 3.]\n",
      "Accuracy :  0.9285714285714286\n",
      "{'1.0': {'precision': 0.9285714285714286, 'recall': 0.9285714285714286, 'f1-score': 0.9285714285714286, 'support': 14}, '2.0': {'precision': 1.0, 'recall': 1.0, 'f1-score': 1.0, 'support': 14}, '3.0': {'precision': 0.9285714285714286, 'recall': 0.9285714285714286, 'f1-score': 0.9285714285714286, 'support': 14}, 'accuracy': 0.9523809523809523, 'macro avg': {'precision': 0.9523809523809524, 'recall': 0.9523809523809524, 'f1-score': 0.9523809523809524, 'support': 42}, 'weighted avg': {'precision': 0.9523809523809523, 'recall': 0.9523809523809523, 'f1-score': 0.9523809523809523, 'support': 42}}\n",
      "[[13  0  1]\n",
      " [ 0 14  0]\n",
      " [ 1  0 13]]\n",
      "\n",
      "Iteration number:  4\n",
      "Number of Neurons in the hidden layers:  300\n",
      "Training Set 168\n",
      "Test Set 42\n",
      "\n",
      "Predicted labels:  [2. 3. 1. 3. 1. 3. 1. 2. 1. 3. 1. 1. 3. 1. 2. 3. 3. 3. 3. 2.]\n",
      "Actual labels:  [2. 3. 1. 3. 1. 3. 1. 2. 1. 3. 1. 2. 1. 1. 2. 3. 3. 3. 3. 2.]\n",
      "Accuracy :  0.9285714285714286\n",
      "{'1.0': {'precision': 0.8125, 'recall': 0.9285714285714286, 'f1-score': 0.8666666666666666, 'support': 14}, '2.0': {'precision': 1.0, 'recall': 0.8571428571428571, 'f1-score': 0.923076923076923, 'support': 14}, '3.0': {'precision': 0.9285714285714286, 'recall': 0.9285714285714286, 'f1-score': 0.9285714285714286, 'support': 14}, 'accuracy': 0.9047619047619048, 'macro avg': {'precision': 0.9136904761904763, 'recall': 0.9047619047619048, 'f1-score': 0.9061050061050061, 'support': 42}, 'weighted avg': {'precision': 0.9136904761904762, 'recall': 0.9047619047619048, 'f1-score': 0.906105006105006, 'support': 42}}\n",
      "[[13  0  1]\n",
      " [ 2 12  0]\n",
      " [ 1  0 13]]\n",
      "\n",
      "Iteration number:  5\n",
      "Number of Neurons in the hidden layers:  300\n",
      "Training Set 168\n",
      "Test Set 42\n",
      "\n",
      "Predicted labels:  [2. 2. 2. 2. 2. 3. 1. 1. 1. 3. 3. 3. 3. 2. 2. 3. 1. 2. 2. 2.]\n",
      "Actual labels:  [2. 2. 2. 2. 2. 3. 1. 1. 1. 1. 3. 3. 3. 2. 1. 3. 1. 2. 2. 2.]\n",
      "Accuracy :  0.9285714285714286\n",
      "{'1.0': {'precision': 1.0, 'recall': 0.7142857142857143, 'f1-score': 0.8333333333333333, 'support': 14}, '2.0': {'precision': 0.9333333333333333, 'recall': 1.0, 'f1-score': 0.9655172413793104, 'support': 14}, '3.0': {'precision': 0.8235294117647058, 'recall': 1.0, 'f1-score': 0.9032258064516129, 'support': 14}, 'accuracy': 0.9047619047619048, 'macro avg': {'precision': 0.918954248366013, 'recall': 0.9047619047619048, 'f1-score': 0.9006921270547522, 'support': 42}, 'weighted avg': {'precision': 0.918954248366013, 'recall': 0.9047619047619048, 'f1-score': 0.9006921270547523, 'support': 42}}\n",
      "[[10  1  3]\n",
      " [ 0 14  0]\n",
      " [ 0  0 14]]\n",
      "\n"
     ]
    }
   ],
   "source": [
    "from sklearn.model_selection import train_test_split\n",
    "from sklearn.neural_network import MLPClassifier\n",
    "from sklearn.metrics import accuracy_score\n",
    "from sklearn.metrics import classification_report\n",
    "from sklearn.metrics import confusion_matrix\n",
    "\n",
    "ann_data_X, ann_data_y = scaled, y\n",
    "df = pd.DataFrame()\n",
    "r = 0.4\n",
    "ratio = [0.4, 0.3, 0.2]\n",
    "l = 100\n",
    "layers = [100, 200, 300]\n",
    "\n",
    "for r in ratio:\n",
    "    i=1\n",
    "    iteration = [1, 2, 3, 4, 5]\n",
    "    for i in iteration:\n",
    "        ann_x_train, ann_x_test, ann_y_train, ann_y_test = train_test_split(ann_data_X, ann_data_y, test_size=r, random_state=i, stratify=ann_data_y)\n",
    "        mlp = MLPClassifier(hidden_layer_sizes=(l, l, l), solver='lbfgs', max_iter=500)\n",
    "        mlp.fit(ann_x_train, ann_y_train)\n",
    "\n",
    "        ann_predictions = mlp.predict(ann_x_test)\n",
    "        \n",
    "        print('Iteration number: ', i)\n",
    "        print('Number of Neurons in the hidden layers: ', l)\n",
    "        print('Training Set %d\\nTest Set %d\\n'%(ann_x_train.shape[0], ann_x_test.shape[0]))\n",
    "        print('Predicted labels: ', ann_predictions[:20])\n",
    "        print('Actual labels: ', ann_y_test[:20])        \n",
    "        ann_classification = classification_report(ann_y_test, ann_predictions, output_dict=True)\n",
    "        ann_cm = confusion_matrix(ann_y_test, ann_predictions)\n",
    "        print(ann_classification)\n",
    "        print(ann_cm)\n",
    "        print()\n",
    "        \n",
    "        ##CLASSIFICATION REPORT EXPORT - UNCOMMENT TO EXPORT TO EXCEL FILES\n",
    "        #report_df = pd.DataFrame(rf_classification).transpose()\n",
    "        #df = df.append(report_df)\n",
    "        #df.to_excel('seeds_results3.xlsx', sheet_name='ANN_Raw')\n",
    "        \n",
    "        ##CONFUSION MATRIX EXPORT - UNCOMMENT TO EXPORT TO EXCEL FILES\n",
    "        #report_df = pd.DataFrame(ann_cm).transpose()\n",
    "        #df = df.append(report_df)\n",
    "        #df.to_excel('seeds_results4.xlsx', sheet_name='ANN_CM_Raw')\n",
    "        \n",
    "        i += 1\n",
    "    r -= 0.1\n",
    "    l += 100"
   ]
  }
 ],
 "metadata": {
  "interpreter": {
   "hash": "3edb1d15b33914cd3fbeabedf21da0112479a62343769a435eda4427aeae560a"
  },
  "kernelspec": {
   "display_name": "Python 3.9.9 64-bit (windows store)",
   "language": "python",
   "name": "python3"
  },
  "language_info": {
   "codemirror_mode": {
    "name": "ipython",
    "version": 3
   },
   "file_extension": ".py",
   "mimetype": "text/x-python",
   "name": "python",
   "nbconvert_exporter": "python",
   "pygments_lexer": "ipython3",
   "version": "3.9.10"
  },
  "orig_nbformat": 4
 },
 "nbformat": 4,
 "nbformat_minor": 2
}
